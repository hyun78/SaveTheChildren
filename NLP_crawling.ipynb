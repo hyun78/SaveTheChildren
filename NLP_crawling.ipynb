{
 "cells": [
  {
   "cell_type": "code",
   "execution_count": 1,
   "metadata": {},
   "outputs": [],
   "source": [
    "import requests\n",
    "from bs4 import BeautifulSoup as bs"
   ]
  },
  {
   "cell_type": "code",
   "execution_count": 2,
   "metadata": {},
   "outputs": [],
   "source": [
    "url = \"http://mlp.wikia.com/wiki/Transcripts/Friendship_is_Magic,_part_1\"\n",
    "page = requests.get(url)\n",
    "soup = bs(page.text,'lxml')\n"
   ]
  },
  {
   "cell_type": "code",
   "execution_count": null,
   "metadata": {},
   "outputs": [],
   "source": []
  },
  {
   "cell_type": "code",
   "execution_count": 3,
   "metadata": {
    "scrolled": false
   },
   "outputs": [
    {
     "data": {
      "text/plain": [
       "15"
      ]
     },
     "execution_count": 3,
     "metadata": {},
     "output_type": "execute_result"
    }
   ],
   "source": [
    "len(soup.select('dl'))"
   ]
  },
  {
   "cell_type": "code",
   "execution_count": 28,
   "metadata": {},
   "outputs": [
    {
     "data": {
      "text/plain": [
       "15"
      ]
     },
     "execution_count": 28,
     "metadata": {},
     "output_type": "execute_result"
    }
   ],
   "source": [
    "len(soup.select('dl'))"
   ]
  },
  {
   "cell_type": "code",
   "execution_count": 38,
   "metadata": {},
   "outputs": [],
   "source": [
    "data = []\n",
    "for pg in soup.select('dl'):\n",
    "    data.append(pg.text)\n",
    "total_data = ''.join(data)\n",
    "with open('mlp_001.txt','w') as f:\n",
    "    f.write(total_data)\n"
   ]
  },
  {
   "cell_type": "code",
   "execution_count": 3,
   "metadata": {},
   "outputs": [],
   "source": [
    "def generate_mlp(url,epnum):\n",
    "    # epnum : str (000~150)\n",
    "    # url : script url\n",
    "    page = requests.get(url)\n",
    "    soup = bs(page.text,'lxml')\n",
    "    data = []\n",
    "    for pg in soup.select('dl'):\n",
    "        data.append(pg.text)\n",
    "    total_data = ''.join(data)\n",
    "    with open('mlp_{ep}.txt'.format(ep=epnum),'w') as f:\n",
    "        f.write(total_data)\n",
    "    return"
   ]
  },
  {
   "cell_type": "code",
   "execution_count": 6,
   "metadata": {},
   "outputs": [],
   "source": [
    "url = \"http://mlp.wikia.com/wiki/Transcripts\"\n",
    "page = requests.get(url)\n",
    "soup = bs(page.text,'lxml')"
   ]
  },
  {
   "cell_type": "code",
   "execution_count": 7,
   "metadata": {},
   "outputs": [
    {
     "data": {
      "text/plain": [
       "'/wiki/Transcripts/The_Best_Night_Ever'"
      ]
     },
     "execution_count": 7,
     "metadata": {},
     "output_type": "execute_result"
    }
   ],
   "source": [
    "#soup.select('tr')[26].find_all('a')[2]['href']\n",
    "soup.select('tr')[26].select('a')[2]['href']"
   ]
  },
  {
   "cell_type": "code",
   "execution_count": 105,
   "metadata": {},
   "outputs": [
    {
     "data": {
      "text/plain": [
       "'135'"
      ]
     },
     "execution_count": 105,
     "metadata": {},
     "output_type": "execute_result"
    }
   ],
   "source": [
    "len(soup.select('tr'))\n",
    "a = 1\n",
    "b = 135\n",
    "'{0:03}'.format(b)"
   ]
  },
  {
   "cell_type": "code",
   "execution_count": 59,
   "metadata": {},
   "outputs": [],
   "source": [
    "#season 1: total 26 ,  1  ~  26,\n",
    "#season 2: total 26 , 28  ~  53,\n",
    "#season 3: total 13 , 55  ~  67,\n",
    "#season 4: total 26 , 69  ~  94,\n",
    "#season 5: total 26 , 96  ~ 121,\n",
    "#season 6: total 26 , 123 ~ 148,\n",
    "#season 7: total 26 , 150 ~ 175,\n",
    "#season 8: total 11 , 177 ~ 187,"
   ]
  },
  {
   "cell_type": "code",
   "execution_count": 4,
   "metadata": {},
   "outputs": [
    {
     "data": {
      "text/plain": [
       "180"
      ]
     },
     "execution_count": 4,
     "metadata": {},
     "output_type": "execute_result"
    }
   ],
   "source": [
    "season_len = [26,26,13,26,26,26,26,11]\n",
    "sum(season_len)"
   ]
  },
  {
   "cell_type": "code",
   "execution_count": 31,
   "metadata": {},
   "outputs": [
    {
     "name": "stdout",
     "output_type": "stream",
     "text": [
      "28\n",
      "55\n",
      "69\n",
      "96\n",
      "123\n",
      "150\n",
      "177\n",
      "189\n",
      "done\n"
     ]
    }
   ],
   "source": [
    "url_list = [] # should be length 180 , each has (url_str, ep_number)\n",
    "i = 1 # start_index:\n",
    "epnum = 1\n",
    "for ep_ in season_len:\n",
    "    for j in range(ep_):\n",
    "        epidx = i+j\n",
    "        temp_url = 'http://mlp.wikia.com'+soup.select('tr')[epidx].select('a')[-2]['href']\n",
    "        t = [temp_url,'{0:03}'.format(epnum)]\n",
    "        url_list.append(t)\n",
    "        epnum+=1\n",
    "    i += ep_+1\n",
    "    print(i)\n",
    "print(\"done\")"
   ]
  },
  {
   "cell_type": "code",
   "execution_count": 23,
   "metadata": {},
   "outputs": [
    {
     "data": {
      "text/plain": [
       "180"
      ]
     },
     "execution_count": 23,
     "metadata": {},
     "output_type": "execute_result"
    }
   ],
   "source": [
    "len(url_list)"
   ]
  },
  {
   "cell_type": "code",
   "execution_count": 33,
   "metadata": {},
   "outputs": [
    {
     "data": {
      "text/plain": [
       "[['http://mlp.wikia.com/wiki/Transcripts/Friendship_is_Magic,_part_1', '001'],\n",
       " ['http://mlp.wikia.com/wiki/Transcripts/Friendship_is_Magic,_part_2', '002'],\n",
       " ['http://mlp.wikia.com/wiki/Transcripts/The_Ticket_Master', '003'],\n",
       " ['http://mlp.wikia.com/wiki/Transcripts/Applebuck_Season', '004'],\n",
       " ['http://mlp.wikia.com/wiki/Transcripts/Griffon_the_Brush_Off', '005'],\n",
       " ['http://mlp.wikia.com/wiki/Transcripts/Boast_Busters', '006'],\n",
       " ['http://mlp.wikia.com/wiki/Transcripts/Dragonshy', '007'],\n",
       " ['http://mlp.wikia.com/wiki/Transcripts/Look_Before_You_Sleep', '008'],\n",
       " ['http://mlp.wikia.com/wiki/Transcripts/Bridle_Gossip', '009'],\n",
       " ['http://mlp.wikia.com/wiki/Transcripts/Swarm_of_the_Century', '010'],\n",
       " ['http://mlp.wikia.com/wiki/Transcripts/Winter_Wrap_Up', '011'],\n",
       " ['http://mlp.wikia.com/wiki/Transcripts/Call_of_the_Cutie', '012'],\n",
       " ['http://mlp.wikia.com/wiki/Transcripts/Fall_Weather_Friends', '013'],\n",
       " ['http://mlp.wikia.com/wiki/Transcripts/Suited_For_Success', '014'],\n",
       " ['http://mlp.wikia.com/wiki/Transcripts/Feeling_Pinkie_Keen', '015'],\n",
       " ['http://mlp.wikia.com/wiki/Transcripts/Sonic_Rainboom', '016'],\n",
       " ['http://mlp.wikia.com/wiki/Transcripts/Stare_Master', '017'],\n",
       " ['http://mlp.wikia.com/wiki/Transcripts/The_Show_Stoppers', '018'],\n",
       " ['http://mlp.wikia.com/wiki/Transcripts/A_Dog_and_Pony_Show', '019'],\n",
       " ['http://mlp.wikia.com/wiki/Transcripts/Green_Isn%27t_Your_Color', '020'],\n",
       " ['http://mlp.wikia.com/wiki/Transcripts/Over_a_Barrel', '021'],\n",
       " ['http://mlp.wikia.com/wiki/Transcripts/A_Bird_in_the_Hoof', '022'],\n",
       " ['http://mlp.wikia.com/wiki/Transcripts/The_Cutie_Mark_Chronicles', '023'],\n",
       " ['http://mlp.wikia.com/wiki/Transcripts/Owl%27s_Well_That_Ends_Well', '024'],\n",
       " ['http://mlp.wikia.com/wiki/Transcripts/Party_of_One', '025'],\n",
       " ['http://mlp.wikia.com/wiki/Transcripts/The_Best_Night_Ever', '026'],\n",
       " ['http://mlp.wikia.com/wiki/Transcripts/The_Return_of_Harmony_Part_1', '027'],\n",
       " ['http://mlp.wikia.com/wiki/Transcripts/The_Return_of_Harmony_Part_2', '028'],\n",
       " ['http://mlp.wikia.com/wiki/Transcripts/Lesson_Zero', '029'],\n",
       " ['http://mlp.wikia.com/wiki/Transcripts/Luna_Eclipsed', '030'],\n",
       " ['http://mlp.wikia.com/wiki/Transcripts/Sisterhooves_Social', '031'],\n",
       " ['http://mlp.wikia.com/wiki/Transcripts/The_Cutie_Pox', '032'],\n",
       " ['http://mlp.wikia.com/wiki/Transcripts/May_the_Best_Pet_Win!', '033'],\n",
       " ['http://mlp.wikia.com/wiki/Transcripts/The_Mysterious_Mare_Do_Well', '034'],\n",
       " ['http://mlp.wikia.com/wiki/Transcripts/Sweet_and_Elite', '035'],\n",
       " ['http://mlp.wikia.com/wiki/Transcripts/Secret_of_My_Excess', '036'],\n",
       " ['http://mlp.wikia.com/wiki/Transcripts/Hearth%27s_Warming_Eve', '037'],\n",
       " ['http://mlp.wikia.com/wiki/Transcripts/Family_Appreciation_Day', '038'],\n",
       " ['http://mlp.wikia.com/wiki/Transcripts/Baby_Cakes', '039'],\n",
       " ['http://mlp.wikia.com/wiki/Transcripts/The_Last_Roundup', '040'],\n",
       " ['http://mlp.wikia.com/wiki/Transcripts/The_Super_Speedy_Cider_Squeezy_6000',\n",
       "  '041'],\n",
       " ['http://mlp.wikia.com/wiki/Transcripts/Read_It_and_Weep', '042'],\n",
       " ['http://mlp.wikia.com/wiki/Transcripts/Hearts_and_Hooves_Day', '043'],\n",
       " ['http://mlp.wikia.com/wiki/Transcripts/A_Friend_in_Deed', '044'],\n",
       " ['http://mlp.wikia.com/wiki/Transcripts/Putting_Your_Hoof_Down', '045'],\n",
       " ['http://mlp.wikia.com/wiki/Transcripts/It%27s_About_Time', '046'],\n",
       " ['http://mlp.wikia.com/wiki/Transcripts/Dragon_Quest', '047'],\n",
       " ['http://mlp.wikia.com/wiki/Transcripts/Hurricane_Fluttershy', '048'],\n",
       " ['http://mlp.wikia.com/wiki/Transcripts/Ponyville_Confidential', '049'],\n",
       " ['http://mlp.wikia.com/wiki/Transcripts/MMMystery_on_the_Friendship_Express',\n",
       "  '050'],\n",
       " ['http://mlp.wikia.com/wiki/Transcripts/A_Canterlot_Wedding_-_Part_1', '051'],\n",
       " ['http://mlp.wikia.com/wiki/Transcripts/A_Canterlot_Wedding_-_Part_2', '052'],\n",
       " ['http://mlp.wikia.com/wiki/Transcripts/The_Crystal_Empire_-_Part_1', '053'],\n",
       " ['http://mlp.wikia.com/wiki/Transcripts/The_Crystal_Empire_-_Part_2', '054'],\n",
       " ['http://mlp.wikia.com/wiki/Transcripts/Too_Many_Pinkie_Pies', '055'],\n",
       " ['http://mlp.wikia.com/wiki/Transcripts/One_Bad_Apple', '056'],\n",
       " ['http://mlp.wikia.com/wiki/Transcripts/Magic_Duel', '057'],\n",
       " ['http://mlp.wikia.com/wiki/Transcripts/Sleepless_in_Ponyville', '058'],\n",
       " ['http://mlp.wikia.com/wiki/Transcripts/Wonderbolts_Academy', '059'],\n",
       " ['http://mlp.wikia.com/wiki/Transcripts/Apple_Family_Reunion', '060'],\n",
       " ['http://mlp.wikia.com/wiki/Transcripts/Spike_at_Your_Service', '061'],\n",
       " ['http://mlp.wikia.com/wiki/Transcripts/Keep_Calm_and_Flutter_On', '062'],\n",
       " ['http://mlp.wikia.com/wiki/Transcripts/Just_for_Sidekicks', '063'],\n",
       " ['http://mlp.wikia.com/wiki/Transcripts/Games_Ponies_Play', '064'],\n",
       " ['http://mlp.wikia.com/wiki/Transcripts/Magical_Mystery_Cure', '065'],\n",
       " ['http://mlp.wikia.com/wiki/Transcripts/Princess_Twilight_Sparkle_-_Part_1',\n",
       "  '066'],\n",
       " ['http://mlp.wikia.com/wiki/Transcripts/Princess_Twilight_Sparkle_-_Part_2',\n",
       "  '067'],\n",
       " ['http://mlp.wikia.com/wiki/Transcripts/Castle_Mane-ia', '068'],\n",
       " ['http://mlp.wikia.com/wiki/Transcripts/Daring_Don%27t', '069'],\n",
       " ['http://mlp.wikia.com/wiki/Transcripts/Flight_to_the_Finish', '070'],\n",
       " ['http://mlp.wikia.com/wiki/Transcripts/Power_Ponies', '071'],\n",
       " ['http://mlp.wikia.com/wiki/Transcripts/Bats!', '072'],\n",
       " ['http://mlp.wikia.com/wiki/Transcripts/Rarity_Takes_Manehattan', '073'],\n",
       " ['http://mlp.wikia.com/wiki/Transcripts/Pinkie_Apple_Pie', '074'],\n",
       " ['http://mlp.wikia.com/wiki/Transcripts/Rainbow_Falls', '075'],\n",
       " ['http://mlp.wikia.com/wiki/Transcripts/Three%27s_A_Crowd', '076'],\n",
       " ['http://mlp.wikia.com/wiki/Transcripts/Pinkie_Pride', '077'],\n",
       " ['http://mlp.wikia.com/wiki/Transcripts/Simple_Ways', '078'],\n",
       " ['http://mlp.wikia.com/wiki/Transcripts/Filli_Vanilli', '079'],\n",
       " ['http://mlp.wikia.com/wiki/Transcripts/Twilight_Time', '080'],\n",
       " ['http://mlp.wikia.com/wiki/Transcripts/It_Ain%27t_Easy_Being_Breezies',\n",
       "  '081'],\n",
       " ['http://mlp.wikia.com/wiki/Transcripts/Somepony_to_Watch_Over_Me', '082'],\n",
       " ['http://mlp.wikia.com/wiki/Transcripts/Maud_Pie_(episode)', '083'],\n",
       " ['http://mlp.wikia.com/wiki/Transcripts/For_Whom_the_Sweetie_Belle_Toils',\n",
       "  '084'],\n",
       " ['http://mlp.wikia.com/wiki/Transcripts/Leap_of_Faith', '085'],\n",
       " ['http://mlp.wikia.com/wiki/Transcripts/Testing_Testing_1,_2,_3', '086'],\n",
       " ['http://mlp.wikia.com/wiki/Transcripts/Trade_Ya!', '087'],\n",
       " ['http://mlp.wikia.com/wiki/Transcripts/Inspiration_Manifestation', '088'],\n",
       " ['http://mlp.wikia.com/wiki/Transcripts/Equestria_Games', '089'],\n",
       " ['http://mlp.wikia.com/wiki/Transcripts/Twilight%27s_Kingdom_-_Part_1',\n",
       "  '090'],\n",
       " ['http://mlp.wikia.com/wiki/Transcripts/Twilight%27s_Kingdom_-_Part_2',\n",
       "  '091'],\n",
       " ['http://mlp.wikia.com/wiki/Transcripts/The_Cutie_Map_-_Part_1', '092'],\n",
       " ['http://mlp.wikia.com/wiki/Transcripts/The_Cutie_Map_-_Part_2', '093'],\n",
       " ['http://mlp.wikia.com/wiki/Transcripts/Castle_Sweet_Castle', '094'],\n",
       " ['http://mlp.wikia.com/wiki/Transcripts/Bloom_%26_Gloom', '095'],\n",
       " ['http://mlp.wikia.com/wiki/Transcripts/Tanks_for_the_Memories', '096'],\n",
       " ['http://mlp.wikia.com/wiki/Transcripts/Appleoosa%27s_Most_Wanted', '097'],\n",
       " ['http://mlp.wikia.com/wiki/Transcripts/Make_New_Friends_but_Keep_Discord',\n",
       "  '098'],\n",
       " ['http://mlp.wikia.com/wiki/Transcripts/The_Lost_Treasure_of_Griffonstone',\n",
       "  '099'],\n",
       " ['http://mlp.wikia.com/wiki/Transcripts/Slice_of_Life', '100'],\n",
       " ['http://mlp.wikia.com/wiki/Transcripts/Princess_Spike', '101'],\n",
       " ['http://mlp.wikia.com/wiki/Transcripts/Party_Pooped', '102'],\n",
       " ['http://mlp.wikia.com/wiki/Transcripts/Amending_Fences', '103'],\n",
       " ['http://mlp.wikia.com/wiki/Transcripts/Do_Princesses_Dream_of_Magic_Sheep%3F',\n",
       "  '104'],\n",
       " ['http://mlp.wikia.com/wiki/Transcripts/Canterlot_Boutique', '105'],\n",
       " ['http://mlp.wikia.com/wiki/Transcripts/Rarity_Investigates!', '106'],\n",
       " ['http://mlp.wikia.com/wiki/Transcripts/Made_in_Manehattan', '107'],\n",
       " ['http://mlp.wikia.com/wiki/Transcripts/Brotherhooves_Social', '108'],\n",
       " ['http://mlp.wikia.com/wiki/Transcripts/Crusaders_of_the_Lost_Mark', '109'],\n",
       " ['http://mlp.wikia.com/wiki/Transcripts/The_One_Where_Pinkie_Pie_Knows',\n",
       "  '110'],\n",
       " ['http://mlp.wikia.com/wiki/Transcripts/Hearthbreakers', '111'],\n",
       " ['http://mlp.wikia.com/wiki/Transcripts/Scare_Master', '112'],\n",
       " ['http://mlp.wikia.com/wiki/Transcripts/What_About_Discord%3F', '113'],\n",
       " ['http://mlp.wikia.com/wiki/Transcripts/The_Hooffields_and_McColts', '114'],\n",
       " ['http://mlp.wikia.com/wiki/Transcripts/The_Mane_Attraction', '115'],\n",
       " ['http://mlp.wikia.com/wiki/Transcripts/The_Cutie_Re-Mark_-_Part_1', '116'],\n",
       " ['http://mlp.wikia.com/wiki/Transcripts/The_Cutie_Re-Mark_-_Part_2', '117'],\n",
       " ['http://mlp.wikia.com/wiki/Transcripts/The_Crystalling_-_Part_1', '118'],\n",
       " ['http://mlp.wikia.com/wiki/Transcripts/The_Crystalling_-_Part_2', '119'],\n",
       " ['http://mlp.wikia.com/wiki/Transcripts/The_Gift_of_the_Maud_Pie', '120'],\n",
       " ['http://mlp.wikia.com/wiki/Transcripts/On_Your_Marks', '121'],\n",
       " ['http://mlp.wikia.com/wiki/Transcripts/Gauntlet_of_Fire', '122'],\n",
       " ['http://mlp.wikia.com/wiki/Transcripts/No_Second_Prances', '123'],\n",
       " ['http://mlp.wikia.com/wiki/Transcripts/Newbie_Dash', '124'],\n",
       " ['http://mlp.wikia.com/wiki/Transcripts/A_Hearth%27s_Warming_Tail', '125'],\n",
       " ['http://mlp.wikia.com/wiki/Transcripts/The_Saddle_Row_Review', '126'],\n",
       " ['http://mlp.wikia.com/wiki/Transcripts/Applejack%27s_%22Day%22_Off', '127'],\n",
       " ['http://mlp.wikia.com/wiki/Transcripts/Flutter_Brutter', '128'],\n",
       " ['http://mlp.wikia.com/wiki/Transcripts/Spice_Up_Your_Life', '129'],\n",
       " ['http://mlp.wikia.com/wiki/Transcripts/Stranger_Than_Fan_Fiction', '130'],\n",
       " ['http://mlp.wikia.com/wiki/Transcripts/The_Cart_Before_the_Ponies', '131'],\n",
       " ['http://mlp.wikia.com/wiki/Transcripts/28_Pranks_Later', '132'],\n",
       " ['http://mlp.wikia.com/wiki/Transcripts/The_Times_They_Are_A_Changeling',\n",
       "  '133'],\n",
       " ['http://mlp.wikia.com/wiki/Transcripts/Dungeons_%26_Discords', '134'],\n",
       " ['http://mlp.wikia.com/wiki/Transcripts/Buckball_Season', '135'],\n",
       " ['http://mlp.wikia.com/wiki/Transcripts/The_Fault_in_Our_Cutie_Marks', '136'],\n",
       " ['http://mlp.wikia.com/wiki/Transcripts/Viva_Las_Pegasus', '137'],\n",
       " ['http://mlp.wikia.com/wiki/Transcripts/Every_Little_Thing_She_Does', '138'],\n",
       " ['http://mlp.wikia.com/wiki/Transcripts/P.P.O.V._(Pony_Point_of_View)',\n",
       "  '139'],\n",
       " ['http://mlp.wikia.com/wiki/Transcripts/Where_the_Apple_Lies', '140'],\n",
       " ['http://mlp.wikia.com/wiki/Transcripts/Top_Bolt', '141'],\n",
       " ['http://mlp.wikia.com/wiki/Transcripts/To_Where_and_Back_Again_-_Part_1',\n",
       "  '142'],\n",
       " ['http://mlp.wikia.com/wiki/Transcripts/To_Where_and_Back_Again_-_Part_2',\n",
       "  '143'],\n",
       " ['http://mlp.wikia.com/wiki/Transcripts/Celestial_Advice', '144'],\n",
       " ['http://mlp.wikia.com/wiki/Transcripts/All_Bottled_Up', '145'],\n",
       " ['http://mlp.wikia.com/wiki/Transcripts/A_Flurry_of_Emotions', '146'],\n",
       " ['http://mlp.wikia.com/wiki/Transcripts/Rock_Solid_Friendship', '147'],\n",
       " ['http://mlp.wikia.com/wiki/Transcripts/Fluttershy_Leans_In', '148'],\n",
       " ['http://mlp.wikia.com/wiki/Transcripts/Forever_Filly', '149'],\n",
       " ['http://mlp.wikia.com/wiki/Transcripts/Parental_Glideance', '150'],\n",
       " ['http://mlp.wikia.com/wiki/Transcripts/Hard_to_Say_Anything', '151'],\n",
       " ['http://mlp.wikia.com/wiki/Transcripts/Honest_Apple', '152'],\n",
       " ['http://mlp.wikia.com/wiki/Transcripts/A_Royal_Problem', '153'],\n",
       " ['http://mlp.wikia.com/wiki/Transcripts/Not_Asking_for_Trouble', '154'],\n",
       " ['http://mlp.wikia.com/wiki/Transcripts/Discordant_Harmony', '155'],\n",
       " ['http://mlp.wikia.com/wiki/Transcripts/The_Perfect_Pear', '156'],\n",
       " ['http://mlp.wikia.com/wiki/Transcripts/Fame_and_Misfortune', '157'],\n",
       " ['http://mlp.wikia.com/wiki/Transcripts/Triple_Threat', '158'],\n",
       " ['http://mlp.wikia.com/wiki/Transcripts/Campfire_Tales', '159'],\n",
       " ['http://mlp.wikia.com/wiki/Transcripts/To_Change_a_Changeling', '160'],\n",
       " ['http://mlp.wikia.com/wiki/Transcripts/Daring_Done%3F', '161'],\n",
       " ['http://mlp.wikia.com/wiki/Transcripts/It_Isn%27t_the_Mane_Thing_About_You',\n",
       "  '162'],\n",
       " ['http://mlp.wikia.com/wiki/Transcripts/A_Health_of_Information', '163'],\n",
       " ['http://mlp.wikia.com/wiki/Transcripts/Marks_and_Recreation', '164'],\n",
       " ['http://mlp.wikia.com/wiki/Transcripts/Once_Upon_a_Zeppelin', '165'],\n",
       " ['http://mlp.wikia.com/wiki/Transcripts/Secrets_and_Pies', '166'],\n",
       " ['http://mlp.wikia.com/wiki/Transcripts/Uncommon_Bond', '167'],\n",
       " ['http://mlp.wikia.com/wiki/Transcripts/Shadow_Play_-_Part_1', '168'],\n",
       " ['http://mlp.wikia.com/wiki/Transcripts/Shadow_Play_-_Part_2', '169'],\n",
       " ['http://mlp.wikia.com/wiki/Transcripts/School_Daze_-_Part_1', '170'],\n",
       " ['http://mlp.wikia.com/wiki/Transcripts/School_Daze_-_Part_2', '171'],\n",
       " ['http://mlp.wikia.com/wiki/Transcripts/The_Maud_Couple', '172'],\n",
       " ['http://mlp.wikia.com/wiki/Transcripts/Fake_It_%27Til_You_Make_It', '173'],\n",
       " ['http://mlp.wikia.com/wiki/Transcripts/Grannies_Gone_Wild', '174'],\n",
       " ['http://mlp.wikia.com/wiki/Transcripts/Surf_and_or_Turf', '175'],\n",
       " ['http://mlp.wikia.com/wiki/Transcripts/Horse_Play', '176'],\n",
       " ['http://mlp.wikia.com/wiki/Transcripts/The_Parent_Map', '177'],\n",
       " ['http://mlp.wikia.com/wiki/Transcripts/Non-Compete_Clause', '178'],\n",
       " ['http://mlp.wikia.com/wiki/Transcripts/The_Break_Up_Break_Down', '179'],\n",
       " ['http://mlp.wikia.com/wiki/Transcripts/Molt_Down', '180']]"
      ]
     },
     "execution_count": 33,
     "metadata": {},
     "output_type": "execute_result"
    }
   ],
   "source": [
    "url_list"
   ]
  },
  {
   "cell_type": "code",
   "execution_count": 34,
   "metadata": {},
   "outputs": [
    {
     "name": "stdout",
     "output_type": "stream",
     "text": [
      "http://mlp.wikia.com/wiki/Transcripts/Friendship_is_Magic,_part_1 001\n",
      "http://mlp.wikia.com/wiki/Transcripts/Friendship_is_Magic,_part_2 002\n",
      "http://mlp.wikia.com/wiki/Transcripts/The_Ticket_Master 003\n",
      "http://mlp.wikia.com/wiki/Transcripts/Applebuck_Season 004\n",
      "http://mlp.wikia.com/wiki/Transcripts/Griffon_the_Brush_Off 005\n",
      "http://mlp.wikia.com/wiki/Transcripts/Boast_Busters 006\n",
      "http://mlp.wikia.com/wiki/Transcripts/Dragonshy 007\n",
      "http://mlp.wikia.com/wiki/Transcripts/Look_Before_You_Sleep 008\n",
      "http://mlp.wikia.com/wiki/Transcripts/Bridle_Gossip 009\n",
      "http://mlp.wikia.com/wiki/Transcripts/Swarm_of_the_Century 010\n",
      "http://mlp.wikia.com/wiki/Transcripts/Winter_Wrap_Up 011\n",
      "http://mlp.wikia.com/wiki/Transcripts/Call_of_the_Cutie 012\n",
      "http://mlp.wikia.com/wiki/Transcripts/Fall_Weather_Friends 013\n",
      "http://mlp.wikia.com/wiki/Transcripts/Suited_For_Success 014\n",
      "http://mlp.wikia.com/wiki/Transcripts/Feeling_Pinkie_Keen 015\n",
      "http://mlp.wikia.com/wiki/Transcripts/Sonic_Rainboom 016\n",
      "http://mlp.wikia.com/wiki/Transcripts/Stare_Master 017\n",
      "http://mlp.wikia.com/wiki/Transcripts/The_Show_Stoppers 018\n",
      "http://mlp.wikia.com/wiki/Transcripts/A_Dog_and_Pony_Show 019\n",
      "http://mlp.wikia.com/wiki/Transcripts/Green_Isn%27t_Your_Color 020\n",
      "http://mlp.wikia.com/wiki/Transcripts/Over_a_Barrel 021\n",
      "http://mlp.wikia.com/wiki/Transcripts/A_Bird_in_the_Hoof 022\n",
      "http://mlp.wikia.com/wiki/Transcripts/The_Cutie_Mark_Chronicles 023\n",
      "http://mlp.wikia.com/wiki/Transcripts/Owl%27s_Well_That_Ends_Well 024\n",
      "http://mlp.wikia.com/wiki/Transcripts/Party_of_One 025\n",
      "http://mlp.wikia.com/wiki/Transcripts/The_Best_Night_Ever 026\n",
      "http://mlp.wikia.com/wiki/Transcripts/The_Return_of_Harmony_Part_1 027\n",
      "http://mlp.wikia.com/wiki/Transcripts/The_Return_of_Harmony_Part_2 028\n",
      "http://mlp.wikia.com/wiki/Transcripts/Lesson_Zero 029\n",
      "http://mlp.wikia.com/wiki/Transcripts/Luna_Eclipsed 030\n",
      "http://mlp.wikia.com/wiki/Transcripts/Sisterhooves_Social 031\n",
      "http://mlp.wikia.com/wiki/Transcripts/The_Cutie_Pox 032\n",
      "http://mlp.wikia.com/wiki/Transcripts/May_the_Best_Pet_Win! 033\n",
      "http://mlp.wikia.com/wiki/Transcripts/The_Mysterious_Mare_Do_Well 034\n",
      "http://mlp.wikia.com/wiki/Transcripts/Sweet_and_Elite 035\n",
      "http://mlp.wikia.com/wiki/Transcripts/Secret_of_My_Excess 036\n",
      "http://mlp.wikia.com/wiki/Transcripts/Hearth%27s_Warming_Eve 037\n",
      "http://mlp.wikia.com/wiki/Transcripts/Family_Appreciation_Day 038\n",
      "http://mlp.wikia.com/wiki/Transcripts/Baby_Cakes 039\n",
      "http://mlp.wikia.com/wiki/Transcripts/The_Last_Roundup 040\n",
      "http://mlp.wikia.com/wiki/Transcripts/The_Super_Speedy_Cider_Squeezy_6000 041\n",
      "http://mlp.wikia.com/wiki/Transcripts/Read_It_and_Weep 042\n",
      "http://mlp.wikia.com/wiki/Transcripts/Hearts_and_Hooves_Day 043\n",
      "http://mlp.wikia.com/wiki/Transcripts/A_Friend_in_Deed 044\n",
      "http://mlp.wikia.com/wiki/Transcripts/Putting_Your_Hoof_Down 045\n",
      "http://mlp.wikia.com/wiki/Transcripts/It%27s_About_Time 046\n",
      "http://mlp.wikia.com/wiki/Transcripts/Dragon_Quest 047\n",
      "http://mlp.wikia.com/wiki/Transcripts/Hurricane_Fluttershy 048\n",
      "http://mlp.wikia.com/wiki/Transcripts/Ponyville_Confidential 049\n",
      "http://mlp.wikia.com/wiki/Transcripts/MMMystery_on_the_Friendship_Express 050\n",
      "http://mlp.wikia.com/wiki/Transcripts/A_Canterlot_Wedding_-_Part_1 051\n",
      "http://mlp.wikia.com/wiki/Transcripts/A_Canterlot_Wedding_-_Part_2 052\n",
      "http://mlp.wikia.com/wiki/Transcripts/The_Crystal_Empire_-_Part_1 053\n",
      "http://mlp.wikia.com/wiki/Transcripts/The_Crystal_Empire_-_Part_2 054\n",
      "http://mlp.wikia.com/wiki/Transcripts/Too_Many_Pinkie_Pies 055\n",
      "http://mlp.wikia.com/wiki/Transcripts/One_Bad_Apple 056\n",
      "http://mlp.wikia.com/wiki/Transcripts/Magic_Duel 057\n",
      "http://mlp.wikia.com/wiki/Transcripts/Sleepless_in_Ponyville 058\n",
      "http://mlp.wikia.com/wiki/Transcripts/Wonderbolts_Academy 059\n",
      "http://mlp.wikia.com/wiki/Transcripts/Apple_Family_Reunion 060\n",
      "http://mlp.wikia.com/wiki/Transcripts/Spike_at_Your_Service 061\n",
      "http://mlp.wikia.com/wiki/Transcripts/Keep_Calm_and_Flutter_On 062\n",
      "http://mlp.wikia.com/wiki/Transcripts/Just_for_Sidekicks 063\n",
      "http://mlp.wikia.com/wiki/Transcripts/Games_Ponies_Play 064\n",
      "http://mlp.wikia.com/wiki/Transcripts/Magical_Mystery_Cure 065\n",
      "http://mlp.wikia.com/wiki/Transcripts/Princess_Twilight_Sparkle_-_Part_1 066\n",
      "http://mlp.wikia.com/wiki/Transcripts/Princess_Twilight_Sparkle_-_Part_2 067\n",
      "http://mlp.wikia.com/wiki/Transcripts/Castle_Mane-ia 068\n",
      "http://mlp.wikia.com/wiki/Transcripts/Daring_Don%27t 069\n",
      "http://mlp.wikia.com/wiki/Transcripts/Flight_to_the_Finish 070\n",
      "http://mlp.wikia.com/wiki/Transcripts/Power_Ponies 071\n",
      "http://mlp.wikia.com/wiki/Transcripts/Bats! 072\n",
      "http://mlp.wikia.com/wiki/Transcripts/Rarity_Takes_Manehattan 073\n",
      "http://mlp.wikia.com/wiki/Transcripts/Pinkie_Apple_Pie 074\n",
      "http://mlp.wikia.com/wiki/Transcripts/Rainbow_Falls 075\n",
      "http://mlp.wikia.com/wiki/Transcripts/Three%27s_A_Crowd 076\n",
      "http://mlp.wikia.com/wiki/Transcripts/Pinkie_Pride 077\n",
      "http://mlp.wikia.com/wiki/Transcripts/Simple_Ways 078\n",
      "http://mlp.wikia.com/wiki/Transcripts/Filli_Vanilli 079\n",
      "http://mlp.wikia.com/wiki/Transcripts/Twilight_Time 080\n",
      "http://mlp.wikia.com/wiki/Transcripts/It_Ain%27t_Easy_Being_Breezies 081\n",
      "http://mlp.wikia.com/wiki/Transcripts/Somepony_to_Watch_Over_Me 082\n",
      "http://mlp.wikia.com/wiki/Transcripts/Maud_Pie_(episode) 083\n",
      "http://mlp.wikia.com/wiki/Transcripts/For_Whom_the_Sweetie_Belle_Toils 084\n",
      "http://mlp.wikia.com/wiki/Transcripts/Leap_of_Faith 085\n",
      "http://mlp.wikia.com/wiki/Transcripts/Testing_Testing_1,_2,_3 086\n",
      "http://mlp.wikia.com/wiki/Transcripts/Trade_Ya! 087\n",
      "http://mlp.wikia.com/wiki/Transcripts/Inspiration_Manifestation 088\n",
      "http://mlp.wikia.com/wiki/Transcripts/Equestria_Games 089\n",
      "http://mlp.wikia.com/wiki/Transcripts/Twilight%27s_Kingdom_-_Part_1 090\n",
      "http://mlp.wikia.com/wiki/Transcripts/Twilight%27s_Kingdom_-_Part_2 091\n",
      "http://mlp.wikia.com/wiki/Transcripts/The_Cutie_Map_-_Part_1 092\n",
      "http://mlp.wikia.com/wiki/Transcripts/The_Cutie_Map_-_Part_2 093\n",
      "http://mlp.wikia.com/wiki/Transcripts/Castle_Sweet_Castle 094\n",
      "http://mlp.wikia.com/wiki/Transcripts/Bloom_%26_Gloom 095\n",
      "http://mlp.wikia.com/wiki/Transcripts/Tanks_for_the_Memories 096\n",
      "http://mlp.wikia.com/wiki/Transcripts/Appleoosa%27s_Most_Wanted 097\n",
      "http://mlp.wikia.com/wiki/Transcripts/Make_New_Friends_but_Keep_Discord 098\n",
      "http://mlp.wikia.com/wiki/Transcripts/The_Lost_Treasure_of_Griffonstone 099\n",
      "http://mlp.wikia.com/wiki/Transcripts/Slice_of_Life 100\n",
      "http://mlp.wikia.com/wiki/Transcripts/Princess_Spike 101\n",
      "http://mlp.wikia.com/wiki/Transcripts/Party_Pooped 102\n",
      "http://mlp.wikia.com/wiki/Transcripts/Amending_Fences 103\n",
      "http://mlp.wikia.com/wiki/Transcripts/Do_Princesses_Dream_of_Magic_Sheep%3F 104\n",
      "http://mlp.wikia.com/wiki/Transcripts/Canterlot_Boutique 105\n",
      "http://mlp.wikia.com/wiki/Transcripts/Rarity_Investigates! 106\n",
      "http://mlp.wikia.com/wiki/Transcripts/Made_in_Manehattan 107\n",
      "http://mlp.wikia.com/wiki/Transcripts/Brotherhooves_Social 108\n",
      "http://mlp.wikia.com/wiki/Transcripts/Crusaders_of_the_Lost_Mark 109\n",
      "http://mlp.wikia.com/wiki/Transcripts/The_One_Where_Pinkie_Pie_Knows 110\n",
      "http://mlp.wikia.com/wiki/Transcripts/Hearthbreakers 111\n",
      "http://mlp.wikia.com/wiki/Transcripts/Scare_Master 112\n",
      "http://mlp.wikia.com/wiki/Transcripts/What_About_Discord%3F 113\n",
      "http://mlp.wikia.com/wiki/Transcripts/The_Hooffields_and_McColts 114\n",
      "http://mlp.wikia.com/wiki/Transcripts/The_Mane_Attraction 115\n",
      "http://mlp.wikia.com/wiki/Transcripts/The_Cutie_Re-Mark_-_Part_1 116\n",
      "http://mlp.wikia.com/wiki/Transcripts/The_Cutie_Re-Mark_-_Part_2 117\n",
      "http://mlp.wikia.com/wiki/Transcripts/The_Crystalling_-_Part_1 118\n",
      "http://mlp.wikia.com/wiki/Transcripts/The_Crystalling_-_Part_2 119\n",
      "http://mlp.wikia.com/wiki/Transcripts/The_Gift_of_the_Maud_Pie 120\n",
      "http://mlp.wikia.com/wiki/Transcripts/On_Your_Marks 121\n",
      "http://mlp.wikia.com/wiki/Transcripts/Gauntlet_of_Fire 122\n",
      "http://mlp.wikia.com/wiki/Transcripts/No_Second_Prances 123\n",
      "http://mlp.wikia.com/wiki/Transcripts/Newbie_Dash 124\n",
      "http://mlp.wikia.com/wiki/Transcripts/A_Hearth%27s_Warming_Tail 125\n",
      "http://mlp.wikia.com/wiki/Transcripts/The_Saddle_Row_Review 126\n",
      "http://mlp.wikia.com/wiki/Transcripts/Applejack%27s_%22Day%22_Off 127\n",
      "http://mlp.wikia.com/wiki/Transcripts/Flutter_Brutter 128\n",
      "http://mlp.wikia.com/wiki/Transcripts/Spice_Up_Your_Life 129\n",
      "http://mlp.wikia.com/wiki/Transcripts/Stranger_Than_Fan_Fiction 130\n",
      "http://mlp.wikia.com/wiki/Transcripts/The_Cart_Before_the_Ponies 131\n"
     ]
    },
    {
     "name": "stdout",
     "output_type": "stream",
     "text": [
      "http://mlp.wikia.com/wiki/Transcripts/28_Pranks_Later 132\n",
      "http://mlp.wikia.com/wiki/Transcripts/The_Times_They_Are_A_Changeling 133\n",
      "http://mlp.wikia.com/wiki/Transcripts/Dungeons_%26_Discords 134\n",
      "http://mlp.wikia.com/wiki/Transcripts/Buckball_Season 135\n",
      "http://mlp.wikia.com/wiki/Transcripts/The_Fault_in_Our_Cutie_Marks 136\n",
      "http://mlp.wikia.com/wiki/Transcripts/Viva_Las_Pegasus 137\n",
      "http://mlp.wikia.com/wiki/Transcripts/Every_Little_Thing_She_Does 138\n",
      "http://mlp.wikia.com/wiki/Transcripts/P.P.O.V._(Pony_Point_of_View) 139\n",
      "http://mlp.wikia.com/wiki/Transcripts/Where_the_Apple_Lies 140\n",
      "http://mlp.wikia.com/wiki/Transcripts/Top_Bolt 141\n",
      "http://mlp.wikia.com/wiki/Transcripts/To_Where_and_Back_Again_-_Part_1 142\n",
      "http://mlp.wikia.com/wiki/Transcripts/To_Where_and_Back_Again_-_Part_2 143\n",
      "http://mlp.wikia.com/wiki/Transcripts/Celestial_Advice 144\n",
      "http://mlp.wikia.com/wiki/Transcripts/All_Bottled_Up 145\n",
      "http://mlp.wikia.com/wiki/Transcripts/A_Flurry_of_Emotions 146\n",
      "http://mlp.wikia.com/wiki/Transcripts/Rock_Solid_Friendship 147\n",
      "http://mlp.wikia.com/wiki/Transcripts/Fluttershy_Leans_In 148\n",
      "http://mlp.wikia.com/wiki/Transcripts/Forever_Filly 149\n",
      "http://mlp.wikia.com/wiki/Transcripts/Parental_Glideance 150\n",
      "http://mlp.wikia.com/wiki/Transcripts/Hard_to_Say_Anything 151\n",
      "http://mlp.wikia.com/wiki/Transcripts/Honest_Apple 152\n",
      "http://mlp.wikia.com/wiki/Transcripts/A_Royal_Problem 153\n",
      "http://mlp.wikia.com/wiki/Transcripts/Not_Asking_for_Trouble 154\n",
      "http://mlp.wikia.com/wiki/Transcripts/Discordant_Harmony 155\n",
      "http://mlp.wikia.com/wiki/Transcripts/The_Perfect_Pear 156\n",
      "http://mlp.wikia.com/wiki/Transcripts/Fame_and_Misfortune 157\n",
      "http://mlp.wikia.com/wiki/Transcripts/Triple_Threat 158\n",
      "http://mlp.wikia.com/wiki/Transcripts/Campfire_Tales 159\n",
      "http://mlp.wikia.com/wiki/Transcripts/To_Change_a_Changeling 160\n",
      "http://mlp.wikia.com/wiki/Transcripts/Daring_Done%3F 161\n",
      "http://mlp.wikia.com/wiki/Transcripts/It_Isn%27t_the_Mane_Thing_About_You 162\n",
      "http://mlp.wikia.com/wiki/Transcripts/A_Health_of_Information 163\n",
      "http://mlp.wikia.com/wiki/Transcripts/Marks_and_Recreation 164\n",
      "http://mlp.wikia.com/wiki/Transcripts/Once_Upon_a_Zeppelin 165\n",
      "http://mlp.wikia.com/wiki/Transcripts/Secrets_and_Pies 166\n",
      "http://mlp.wikia.com/wiki/Transcripts/Uncommon_Bond 167\n",
      "http://mlp.wikia.com/wiki/Transcripts/Shadow_Play_-_Part_1 168\n",
      "http://mlp.wikia.com/wiki/Transcripts/Shadow_Play_-_Part_2 169\n",
      "http://mlp.wikia.com/wiki/Transcripts/School_Daze_-_Part_1 170\n",
      "http://mlp.wikia.com/wiki/Transcripts/School_Daze_-_Part_2 171\n",
      "http://mlp.wikia.com/wiki/Transcripts/The_Maud_Couple 172\n",
      "http://mlp.wikia.com/wiki/Transcripts/Fake_It_%27Til_You_Make_It 173\n",
      "http://mlp.wikia.com/wiki/Transcripts/Grannies_Gone_Wild 174\n",
      "http://mlp.wikia.com/wiki/Transcripts/Surf_and_or_Turf 175\n",
      "http://mlp.wikia.com/wiki/Transcripts/Horse_Play 176\n",
      "http://mlp.wikia.com/wiki/Transcripts/The_Parent_Map 177\n",
      "http://mlp.wikia.com/wiki/Transcripts/Non-Compete_Clause 178\n",
      "http://mlp.wikia.com/wiki/Transcripts/The_Break_Up_Break_Down 179\n",
      "http://mlp.wikia.com/wiki/Transcripts/Molt_Down 180\n"
     ]
    }
   ],
   "source": [
    "for url,epnum in url_list:\n",
    "    generate_mlp(url,epnum)\n",
    "    print(url,epnum)"
   ]
  },
  {
   "cell_type": "code",
   "execution_count": 30,
   "metadata": {},
   "outputs": [
    {
     "data": {
      "text/plain": [
       "<a href=\"/wiki/Transcripts/Applejack%27s_%22Day%22_Off\" title=\"Transcripts/Applejack's &quot;Day&quot; Off\">Transcript</a>"
      ]
     },
     "execution_count": 30,
     "metadata": {},
     "output_type": "execute_result"
    }
   ],
   "source": [
    "soup.select('tr')[132].select('a')[-2]"
   ]
  },
  {
   "cell_type": "code",
   "execution_count": 35,
   "metadata": {},
   "outputs": [],
   "source": [
    "generate_mlp('http://mlp.wikia.com/wiki/Transcripts/My_Little_Pony_The_Movie','181')"
   ]
  },
  {
   "cell_type": "code",
   "execution_count": 36,
   "metadata": {},
   "outputs": [],
   "source": [
    "url = 'http://mlp.wikia.com/wiki/Transcripts/My_Little_Pony_The_Movie'\n",
    "page = requests.get(url)\n",
    "soup = bs(page.text,'lxml')\n",
    "data = []\n",
    "for pg in soup.select('dl'):\n",
    "    data.append(pg.text)\n",
    "total_data = ''.join(data)"
   ]
  },
  {
   "cell_type": "code",
   "execution_count": 54,
   "metadata": {},
   "outputs": [
    {
     "data": {
      "text/plain": [
       "'[Rachel Platten]\\nHey! Hey! Hey!\\nHey! Hey! Hey!\\n\\n'"
      ]
     },
     "execution_count": 54,
     "metadata": {},
     "output_type": "execute_result"
    }
   ],
   "source": [
    "soup.select('dl')[1].text"
   ]
  },
  {
   "cell_type": "code",
   "execution_count": 48,
   "metadata": {},
   "outputs": [
    {
     "data": {
      "text/plain": [
       "'Ohhhh-oh-oh-oh-oh-oh\\nOhhhh-oh-oh-oh-oh-oh\\nOhhhh-oh-oh-oh-oh-oh\\nOhhhh-oh-oh-oh-oh-oh\\n\\n[score suite]\\n'"
      ]
     },
     "execution_count": 48,
     "metadata": {},
     "output_type": "execute_result"
    }
   ],
   "source": [
    "data[-2]"
   ]
  },
  {
   "cell_type": "code",
   "execution_count": 61,
   "metadata": {},
   "outputs": [
    {
     "name": "stdout",
     "output_type": "stream",
     "text": [
      "2975\n",
      "2549\n",
      "3187\n",
      "2583\n",
      "2808\n",
      "2661\n",
      "2668\n",
      "2585\n",
      "3025\n",
      "2296\n",
      "3125\n",
      "3110\n",
      "2695\n",
      "3033\n",
      "2656\n",
      "2640\n",
      "3181\n",
      "2632\n",
      "2420\n",
      "2508\n",
      "2562\n",
      "2444\n",
      "2529\n",
      "2224\n",
      "3040\n",
      "3315\n",
      "2540\n",
      "2276\n",
      "2901\n",
      "2553\n",
      "2519\n",
      "2227\n",
      "2746\n",
      "2186\n",
      "2982\n",
      "2147\n",
      "2915\n",
      "2551\n",
      "2322\n",
      "2567\n",
      "3244\n",
      "2025\n",
      "2889\n",
      "3175\n",
      "2958\n",
      "3111\n",
      "2592\n",
      "2261\n",
      "2897\n",
      "2579\n",
      "3144\n",
      "2256\n",
      "2840\n",
      "2528\n",
      "3298\n",
      "2961\n",
      "2404\n",
      "2538\n",
      "2489\n",
      "3234\n",
      "2902\n",
      "3080\n",
      "2804\n",
      "3375\n",
      "3370\n",
      "2723\n",
      "2067\n",
      "2654\n",
      "2651\n",
      "3138\n",
      "2144\n",
      "2784\n",
      "3189\n",
      "3213\n",
      "2597\n",
      "3309\n",
      "3941\n",
      "2792\n",
      "3273\n",
      "3003\n",
      "2524\n",
      "2324\n",
      "2962\n",
      "2844\n",
      "3005\n",
      "3308\n",
      "3035\n",
      "2411\n",
      "2710\n",
      "3008\n",
      "2091\n",
      "2946\n",
      "2785\n",
      "3323\n",
      "2844\n",
      "2370\n",
      "2634\n",
      "2752\n",
      "2889\n",
      "2580\n",
      "2759\n",
      "2749\n",
      "2797\n",
      "2263\n",
      "3039\n",
      "3315\n",
      "3017\n",
      "2798\n",
      "4037\n",
      "2811\n",
      "2911\n",
      "2669\n",
      "3208\n",
      "2768\n",
      "3172\n",
      "2494\n",
      "2756\n",
      "3023\n",
      "2948\n",
      "3329\n",
      "2958\n",
      "2743\n",
      "2850\n",
      "2914\n",
      "3737\n",
      "2986\n",
      "2832\n",
      "3298\n",
      "3361\n",
      "3364\n",
      "3052\n",
      "2477\n",
      "2941\n",
      "2718\n",
      "2822\n",
      "3696\n",
      "3347\n",
      "3038\n",
      "2862\n",
      "3539\n",
      "2909\n",
      "2806\n",
      "2693\n",
      "3079\n",
      "3323\n",
      "2817\n",
      "2839\n",
      "2659\n",
      "2549\n",
      "2678\n",
      "2928\n",
      "2835\n",
      "3098\n",
      "2732\n",
      "2706\n",
      "3188\n",
      "3336\n",
      "3098\n",
      "2719\n",
      "3137\n",
      "3072\n",
      "2962\n",
      "2796\n",
      "3329\n",
      "3044\n",
      "3111\n",
      "2720\n",
      "2878\n",
      "3141\n",
      "3269\n",
      "2987\n",
      "2874\n",
      "2818\n",
      "2701\n",
      "2949\n",
      "3086\n",
      "19\n",
      "6\n",
      "2794.161111111111\n"
     ]
    }
   ],
   "source": [
    "sum = 0\n",
    "for i in range(1,179):\n",
    "    fname = 'mlp_'+'{0:03}'.format(i)+'.txt'\n",
    "    f = open(fname)\n",
    "    words = f.read().split()\n",
    "    sum += len(words)\n",
    "    print(len(words))\n",
    "#     print(words[:50])\n",
    "print(sum/180)"
   ]
  },
  {
   "cell_type": "code",
   "execution_count": null,
   "metadata": {},
   "outputs": [],
   "source": []
  }
 ],
 "metadata": {
  "kernelspec": {
   "display_name": "Python 3",
   "language": "python",
   "name": "python3"
  },
  "language_info": {
   "codemirror_mode": {
    "name": "ipython",
    "version": 3
   },
   "file_extension": ".py",
   "mimetype": "text/x-python",
   "name": "python",
   "nbconvert_exporter": "python",
   "pygments_lexer": "ipython3",
   "version": "3.6.4"
  }
 },
 "nbformat": 4,
 "nbformat_minor": 2
}
