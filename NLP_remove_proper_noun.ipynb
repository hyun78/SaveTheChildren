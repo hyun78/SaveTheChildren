{
 "cells": [
  {
   "cell_type": "code",
   "execution_count": 1,
   "metadata": {},
   "outputs": [
    {
     "name": "stdout",
     "output_type": "stream",
     "text": [
      "['Well', 'good', 'night', 'folks', 'Come', 'again', 'Thought', 'those', 'deadbeats', 'would', 'never', 'leave', \"Closin'\", 'time', 'There', 'ya', 'go', 'little', 'buddy', 'Now', \"everybody's\", 'all', 'clean', 'and', 'ready', 'for', 'beddy-bye', 'Time', 'to', 'pack', 'it', 'in', 'Wha', 'All', 'ready', 'Krabs', 'Just', 'gotta', 'clock', 'out', 'and', \"what's\", 'the', 'meaning', 'of', 'this', 'Spot', 'spot', 'spot', \"That's\", 'right', 'a', 'spot', 'You', 'know', 'the', 'rule', 'Nobody', 'leaves', 'work', 'till', 'till', \"everything's\", 'ship-shape', 'sir', \"Don't\", 'worry', 'Krabs', 'get', 'this', 'plate', 'cleaned', 'up', 'in', 'a', 'jiffy', 'Oh', 'and', 'uh', 'lock', 'up', 'when', \"you're\", 'done', 'Lock', 'up', 'Wait', 'Krabs', \"Don't\", 'you', 'remember', 'what', 'happened', 'last', 'time', 'you', 'left', 'me', 'here', 'alone', \"Should've\", 'never', 'left', 'you', 'alone', 'with', 'a', 'lit', 'blow', 'torch', 'and', 'me', 'roller', 'skates', 'But', 'since', 'removed', 'all', 'the', 'welding', 'equipment', 'from', 'the', 'premises', \"there's\", 'no-ho-ho', 'chance', 'of', 'that', \"happenin'\", 'again', 'right', 'Now', 'get', 'to', 'work', 'Aye-aye', 'sir', 'La-la-la-la-la-la-la', \"You're\", 'a', 'tough', 'little', 'guy', \"aren't\", 'ya', 'This', 'means', 'war', 'Wait', 'here', 'please', 'Say', 'good-night', 'dried', 'on', 'filth', 'Ready', 'Aim', 'Fire', 'That', 'is', 'the', 'last', 'straw', 'want', 'you', 'to', 'remember', 'you', 'made', 'me', 'do', 'this', 'Yaahhhh', 'got', 'to', 'finish', 'this', \"I'm\", 'afraid', 'this', 'is', 'the', 'last', 'time', \"we'll\", 'be', 'meeting', 'like', 'this', 'my', 'friend', 'Allow', 'me', 'to', 'introduce', 'you', 'to', 'the', '6000', 'Notice', 'the', 'microwave-powered', 'laser', 'particle', 'beam', 'Notice', 'the', 'laser-guided', 'high', 'pressure', 'water', 'cannon', 'And', 'notice', 'the', 'little', 'surprise', 'installed', 'just', 'for', 'you', 'A', 'specially', 'woven', 'metal', 'alloy', 'ingeniously', 'combined', 'with', 'state', 'of', 'the', 'art', 'cleaning', 'materials', 'call', 'it', 'steel', 'wool', 'And', 'it', 'comes', 'with', 'a', 'laser', 'Any', 'last', 'words', 'Mmm', 'thought', 'not', 'Power', 'up', 'Water', 'cannon', 'on', 'No', 'effect', 'Steel', 'wool', 'laser', 'on', 'Hmmm', 'strange', 'vortex', 'in', 'the', 'west', 'Well', \"it's\", 'probably', 'got', 'nothing', 'to', 'do', 'with', 'OK', 'you', 'asked', 'for', 'it', 'It', 'may', 'end', 'life', 'as', 'we', 'know', 'it', 'but', 'am', 'crossing', 'the', 'beams', 'More', 'power', 'Spontaneous', 'molecular', 'distortion', 'hmm', 'guess', 'better', 'go', 'see', 'what', 'the', \"lad's\", 'up', 'to', 'More', 'power', 'Oh', 'boy', 'that', \"can't\", 'be', 'good', 'More', 'power', \"Let's\", 'see', 'what', \"he's\", 'done', 'this', 'time', 'Maximum', 'power', 'Ahhhhh', 'Oh', 'this', 'time', \"you've\", 'done', 'it', 'boy', \"What've\", 'you', 'got', 'to', 'say', 'for', 'yourself', 'The', \"platter's\", 'all', 'clean', 'Krabs', 'Oh', 'clean', 'your', 'platter', 'Come', 'here', 'you']\n"
     ]
    }
   ],
   "source": [
    "import re\n",
    "\n",
    "###Test case 열기\n",
    "\n",
    "f=open(\"test.txt\", 'r')\n",
    "\n",
    "lst = []\n",
    "\n",
    "for l in f:\n",
    "    lst.append(l.strip())\n",
    "\n",
    "f.close()\n",
    "\n",
    "#input : string\n",
    "#output : boolean\n",
    "#description : check whether string contains alphabet.\n",
    "def alphabet(s):\n",
    "    for c in s:\n",
    "        if (c>='0' and c<='9'):    \n",
    "            return False\n",
    "    return True\n",
    "\n",
    "#input : string\n",
    "#output : boolen\n",
    "#description : check whether string's first letter is capital letter.\n",
    "def checkfirst(s):\n",
    "    return (s[0]==s[0].upper() and alphabet(s))\n",
    "\n",
    "#input : list of 덩어리\n",
    "#output : list of 단어\n",
    "#description : 겹치는 단어 제거\n",
    "def remove_prop(lst):\n",
    "    result=[]\n",
    "    prop=[]\n",
    "    for e in lst:\n",
    "        delimiters = \".\", \"!\", \"?\", \"\\n\"\n",
    "        regexPattern = '|'.join(map(re.escape, delimiters))\n",
    "        tmp = re.split(regexPattern, e)\n",
    "        tmp = list(filter(None, tmp))\n",
    "        \n",
    "        for t in tmp:\n",
    "            deli = \",\", \" \"\n",
    "            reg = \"|\".join(map(re.escape, deli))\n",
    "            ss=re.split(reg,t.strip())\n",
    "            ss=list(filter(None, ss))\n",
    "            #ss=t.strip().split()\n",
    "            result=result+ss\n",
    "            S=ss[1:]\n",
    "            for s in S:\n",
    "                if(checkfirst(s) and (not s in prop)):\n",
    "                    prop.append(s)\n",
    "\n",
    "    result = list(filter(lambda a: not a in prop, result))\n",
    "    return result\n",
    "\n",
    "\n",
    "result=remove_prop(lst)\n",
    "print(result)\n"
   ]
  },
  {
   "cell_type": "code",
   "execution_count": null,
   "metadata": {},
   "outputs": [],
   "source": []
  }
 ],
 "metadata": {
  "kernelspec": {
   "display_name": "Python 3",
   "language": "python",
   "name": "python3"
  },
  "language_info": {
   "codemirror_mode": {
    "name": "ipython",
    "version": 3
   },
   "file_extension": ".py",
   "mimetype": "text/x-python",
   "name": "python",
   "nbconvert_exporter": "python",
   "pygments_lexer": "ipython3",
   "version": "3.6.4"
  }
 },
 "nbformat": 4,
 "nbformat_minor": 2
}
