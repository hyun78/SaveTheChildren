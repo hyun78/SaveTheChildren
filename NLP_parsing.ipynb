{
 "cells": [
  {
   "cell_type": "code",
   "execution_count": 1,
   "metadata": {},
   "outputs": [],
   "source": [
    "import nltk\n",
    "from nltk.corpus import words\n",
    "import re\n",
    "filename = \"mlp_001.txt\"\n",
    "field = 'mylittlepony'\n",
    "filepath = 'data/{field}/{name}'.format(field=field,name=filename)\n",
    "\n",
    "tokens =[]\n",
    "#1-2 지시문 제거\n",
    "\n",
    "regex = re.compile(r'\\[.+\\]')\n",
    "\n",
    "# with open(filepath,'r') as f:\n",
    "#     tokens = []\n",
    "#     lines = []\n",
    "#     for line in f:\n",
    "#         #1 : 지시문, 화자는 제외\n",
    "#         #1-1 화자 제거\n",
    "#         newline = ''.join(line.split(':')[1:])\n",
    "#         #1-2 지시문 제거\n",
    "#         newline = regex.sub('',newline)\n",
    "#         #2 -와 -- 제거\n",
    "#         for token in newline.split():\n",
    "            \n",
    "#             newtoken = token.replace('-',' ').split()\n",
    "#             if ''.join(newtoken) in words.words():\n",
    "#                 newtoken = [''.join(newtoken)]\n",
    "#             if '-' in token:\n",
    "#                 print(token,newtoken,newline)\n",
    "            \n",
    "#             tokens+=newtoken\n",
    "#         #tokens.append(newline)\n",
    "#         lines.append(line)\n",
    "        "
   ]
  },
  {
   "cell_type": "code",
   "execution_count": 5,
   "metadata": {},
   "outputs": [],
   "source": [
    "#input : filepath,filename,field; ex) data/{field}/{filename} -> data/mylittlepony/mlp_001.txt\n",
    "#output : tokens = [word,word,word,...,word]\n",
    "def parse(filepath,filename,field):\n",
    "    regex = re.compile(r'\\[.+\\]')\n",
    "\n",
    "    with open(filepath,'r') as f:\n",
    "\n",
    "        lines = []\n",
    "        for line in f:\n",
    "            tokens = []\n",
    "            #1 : 지시문, 화자는 제외\n",
    "            #1-1 화자 제거\n",
    "            newline = ''.join(line.split(':')[1:])\n",
    "            #1-2 지시문 제거\n",
    "            newline = regex.sub('',newline)\n",
    "            #2 -와 -- 제거\n",
    "            for token in newline.split():\n",
    "                if '-' in token and token in words.words():\n",
    "                    newtoken = token\n",
    "                else:\n",
    "                    newtoken = token.replace('-',' ').split()\n",
    "                    if ''.join(newtoken) in words.words(): # mother-in-law -> mother in law \n",
    "                        newtoken = [''.join(newtoken)]\n",
    "#                 if '-' in token:\n",
    "#                     print(token,newtoken,newline)\n",
    "                tokens+=newtoken\n",
    "            \n",
    "            lines.append(' '.join(tokens))\n",
    "    return lines"
   ]
  },
  {
   "cell_type": "code",
   "execution_count": 6,
   "metadata": {},
   "outputs": [],
   "source": [
    "tk = parse(filepath,filename,field)"
   ]
  },
  {
   "cell_type": "code",
   "execution_count": 7,
   "metadata": {},
   "outputs": [
    {
     "data": {
      "text/plain": [
       "[\"Once upon a time, in the magical land of Equestria, there were two regal sisters who ruled together and created harmony for all the land. To do this, the eldest used her unicorn powers to raise the sun at dawn; the younger brought out the moon to begin the night. Thus, the two sisters maintained balance for their kingdom and their subjects, all the different types of ponies. But as time went on, the younger sister became resentful. The ponies relished and played in the day her elder sister brought forth, but shunned and slept through her beautiful night. One fateful day, the younger unicorn refused to lower the moon to make way for the dawn. The elder sister tried to reason with her, but the bitterness in the young one's heart had transformed her into a wicked mare of darkness Nightmare Moon.\",\n",
       " '',\n",
       " 'She vowed that she would shroud the land in eternal night. Reluctantly, the elder sister harnessed the most powerful magic known to ponydom the Elements of Harmony. Using the magic of the Elements of Harmony, she defeated her younger sister, and banished her permanently in the moon. The elder sister took on responsibility for both...',\n",
       " '...sun and moon...',\n",
       " \"...and harmony has been maintained in Equestria for generations since. Hmm... Elements of Harmony. I know I've heard of those before... but where?\",\n",
       " '',\n",
       " 'There you are, Twilight! Moon Dancer is having a little get together in the west castle courtyard. You wanna come?',\n",
       " \"Oh, sorry, girls... I've got a lot of studying to catch up on.\",\n",
       " \"Does that pony do anything except study? I think she's more interested in books than friends.\",\n",
       " \"I know I've heard of the Elements of Harmony.\"]"
      ]
     },
     "execution_count": 7,
     "metadata": {},
     "output_type": "execute_result"
    }
   ],
   "source": [
    "tk[:10]"
   ]
  },
  {
   "cell_type": "code",
   "execution_count": null,
   "metadata": {},
   "outputs": [],
   "source": [
    "#stopwords removing using NLTK I, Mr. / I'll I've  /  "
   ]
  }
 ],
 "metadata": {
  "kernelspec": {
   "display_name": "Python 3",
   "language": "python",
   "name": "python3"
  },
  "language_info": {
   "codemirror_mode": {
    "name": "ipython",
    "version": 3
   },
   "file_extension": ".py",
   "mimetype": "text/x-python",
   "name": "python",
   "nbconvert_exporter": "python",
   "pygments_lexer": "ipython3",
   "version": "3.6.4"
  }
 },
 "nbformat": 4,
 "nbformat_minor": 2
}
