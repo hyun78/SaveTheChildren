{
 "cells": [
  {
   "cell_type": "code",
   "execution_count": 1,
   "metadata": {},
   "outputs": [],
   "source": [
    "import requests\n",
    "from bs4 import BeautifulSoup as bs"
   ]
  },
  {
   "cell_type": "code",
   "execution_count": 2,
   "metadata": {},
   "outputs": [],
   "source": [
    "url = \"http://mlp.wikia.com/wiki/Transcripts/Friendship_is_Magic,_part_1\"\n",
    "page = requests.get(url)\n",
    "soup = bs(page.text,'lxml')\n"
   ]
  },
  {
   "cell_type": "code",
   "execution_count": null,
   "metadata": {},
   "outputs": [],
   "source": []
  },
  {
   "cell_type": "code",
   "execution_count": 3,
   "metadata": {
    "scrolled": false
   },
   "outputs": [
    {
     "data": {
      "text/plain": [
       "15"
      ]
     },
     "execution_count": 3,
     "metadata": {},
     "output_type": "execute_result"
    }
   ],
   "source": [
    "len(soup.select('dl'))"
   ]
  },
  {
   "cell_type": "code",
   "execution_count": 28,
   "metadata": {},
   "outputs": [
    {
     "data": {
      "text/plain": [
       "15"
      ]
     },
     "execution_count": 28,
     "metadata": {},
     "output_type": "execute_result"
    }
   ],
   "source": [
    "len(soup.select('dl'))"
   ]
  },
  {
   "cell_type": "code",
   "execution_count": 38,
   "metadata": {},
   "outputs": [],
   "source": [
    "data = []\n",
    "for pg in soup.select('dl'):\n",
    "    data.append(pg.text)\n",
    "total_data = ''.join(data)\n",
    "with open('mlp_001.txt','w') as f:\n",
    "    f.write(total_data)\n"
   ]
  },
  {
   "cell_type": "code",
   "execution_count": 39,
   "metadata": {},
   "outputs": [],
   "source": [
    "def generate_mlp(url,epnum):\n",
    "    # epnum : str (000~150)\n",
    "    # url : script url\n",
    "    page = requests.get(url)\n",
    "    soup = bs(page.text,'lxml')\n",
    "    data = []\n",
    "    for pg in soup.select('dl'):\n",
    "        data.append(pg.text)\n",
    "    total_data = ''.join(data)\n",
    "    with open('mlp_{ep}.txt'.format(ep=epnum),'w') as f:\n",
    "        f.write(total_data)\n",
    "    return"
   ]
  },
  {
   "cell_type": "code",
   "execution_count": 40,
   "metadata": {},
   "outputs": [],
   "source": [
    "url = \"http://mlp.wikia.com/wiki/Transcripts\"\n",
    "page = requests.get(url)\n",
    "soup = bs(page.text,'lxml')"
   ]
  },
  {
   "cell_type": "code",
   "execution_count": 4,
   "metadata": {},
   "outputs": [
    {
     "ename": "IndexError",
     "evalue": "list index out of range",
     "output_type": "error",
     "traceback": [
      "\u001b[0;31m---------------------------------------------------------------------------\u001b[0m",
      "\u001b[0;31mIndexError\u001b[0m                                Traceback (most recent call last)",
      "\u001b[0;32m<ipython-input-4-08fe46f65ccb>\u001b[0m in \u001b[0;36m<module>\u001b[0;34m()\u001b[0m\n\u001b[0;32m----> 1\u001b[0;31m \u001b[0msoup\u001b[0m\u001b[0;34m.\u001b[0m\u001b[0mselect\u001b[0m\u001b[0;34m(\u001b[0m\u001b[0;34m'tr'\u001b[0m\u001b[0;34m)\u001b[0m\u001b[0;34m[\u001b[0m\u001b[0;36m26\u001b[0m\u001b[0;34m]\u001b[0m\u001b[0;34m.\u001b[0m\u001b[0mfind\u001b[0m\u001b[0;34m(\u001b[0m\u001b[0;34m'a'\u001b[0m\u001b[0;34m)\u001b[0m\u001b[0;34m[\u001b[0m\u001b[0;34m'href'\u001b[0m\u001b[0;34m]\u001b[0m\u001b[0;34m\u001b[0m\u001b[0m\n\u001b[0m",
      "\u001b[0;31mIndexError\u001b[0m: list index out of range"
     ]
    }
   ],
   "source": [
    "soup.select('tr')[26].find('a')['href']"
   ]
  },
  {
   "cell_type": "code",
   "execution_count": 105,
   "metadata": {},
   "outputs": [
    {
     "data": {
      "text/plain": [
       "'135'"
      ]
     },
     "execution_count": 105,
     "metadata": {},
     "output_type": "execute_result"
    }
   ],
   "source": [
    "len(soup.select('tr'))\n",
    "a = 1\n",
    "b = 135\n",
    "'{0:03}'.format(b)"
   ]
  },
  {
   "cell_type": "code",
   "execution_count": 59,
   "metadata": {},
   "outputs": [],
   "source": [
    "#season 1: total 26 ,  1  ~  26,\n",
    "#season 2: total 26 , 28  ~  53,\n",
    "#season 3: total 13 , 55  ~  67,\n",
    "#season 4: total 26 , 69  ~  94,\n",
    "#season 5: total 26 , 96  ~ 121,\n",
    "#season 6: total 26 , 123 ~ 148,\n",
    "#season 7: total 26 , 150 ~ 175,\n",
    "#season 8: total 11 , 177 ~ 187,"
   ]
  },
  {
   "cell_type": "code",
   "execution_count": 83,
   "metadata": {},
   "outputs": [
    {
     "data": {
      "text/plain": [
       "180"
      ]
     },
     "execution_count": 83,
     "metadata": {},
     "output_type": "execute_result"
    }
   ],
   "source": [
    "season_len = [26,26,13,26,26,26,26,11]\n",
    "sum(season_len)"
   ]
  },
  {
   "cell_type": "code",
   "execution_count": 108,
   "metadata": {},
   "outputs": [],
   "source": [
    "url_list = [] # should be length 180 , each has (url_str, ep_number)\n",
    "i = 1 # start_index:\n",
    "epnum = 1\n",
    "for ep_ in season_len:\n",
    "    for j in range(ep_):\n",
    "        epidx = i+j\n",
    "        temp_url = 'http://mlp.wikia.com/wiki/Transcripts'+soup.select('tr')[epidx].find('a')['href']\n",
    "        t = [temp_url,'{0:03}'.format(epnum)]\n",
    "        url_list.append(t)\n",
    "        epnum+=1"
   ]
  },
  {
   "cell_type": "code",
   "execution_count": 109,
   "metadata": {},
   "outputs": [
    {
     "data": {
      "text/plain": [
       "180"
      ]
     },
     "execution_count": 109,
     "metadata": {},
     "output_type": "execute_result"
    }
   ],
   "source": [
    "len(url_list)"
   ]
  },
  {
   "cell_type": "code",
   "execution_count": 110,
   "metadata": {},
   "outputs": [
    {
     "data": {
      "text/plain": [
       "[['http://mlp.wikia.com//wiki/Friendship_is_Magic,_part_1', '001'],\n",
       " ['http://mlp.wikia.com//wiki/Friendship_is_Magic,_part_2', '002'],\n",
       " ['http://mlp.wikia.com//wiki/The_Ticket_Master', '003'],\n",
       " ['http://mlp.wikia.com//wiki/Applebuck_Season', '004'],\n",
       " ['http://mlp.wikia.com//wiki/Griffon_the_Brush_Off', '005']]"
      ]
     },
     "execution_count": 110,
     "metadata": {},
     "output_type": "execute_result"
    }
   ],
   "source": [
    "url_list[:5]"
   ]
  },
  {
   "cell_type": "code",
   "execution_count": null,
   "metadata": {},
   "outputs": [],
   "source": [
    "for url,epnum in url_list:\n",
    "    generate_mlp(url,epnum)"
   ]
  },
  {
   "cell_type": "code",
   "execution_count": null,
   "metadata": {},
   "outputs": [],
   "source": []
  }
 ],
 "metadata": {
  "kernelspec": {
   "display_name": "Python 3",
   "language": "python",
   "name": "python3"
  },
  "language_info": {
   "codemirror_mode": {
    "name": "ipython",
    "version": 3
   },
   "file_extension": ".py",
   "mimetype": "text/x-python",
   "name": "python",
   "nbconvert_exporter": "python",
   "pygments_lexer": "ipython3",
   "version": "3.6.4"
  }
 },
 "nbformat": 4,
 "nbformat_minor": 2
}
